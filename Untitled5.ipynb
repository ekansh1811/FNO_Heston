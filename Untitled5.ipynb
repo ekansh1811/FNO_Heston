{
  "nbformat": 4,
  "nbformat_minor": 0,
  "metadata": {
    "colab": {
      "provenance": [],
      "gpuType": "T4",
      "authorship_tag": "ABX9TyPNxrnb63oCVLFQo6Wv04vG",
      "include_colab_link": true
    },
    "kernelspec": {
      "name": "python3",
      "display_name": "Python 3"
    },
    "language_info": {
      "name": "python"
    },
    "accelerator": "GPU"
  },
  "cells": [
    {
      "cell_type": "markdown",
      "metadata": {
        "id": "view-in-github",
        "colab_type": "text"
      },
      "source": [
        "<a href=\"https://colab.research.google.com/github/ekansh1811/FNO_Heston/blob/main/Untitled5.ipynb\" target=\"_parent\"><img src=\"https://colab.research.google.com/assets/colab-badge.svg\" alt=\"Open In Colab\"/></a>"
      ]
    },
    {
      "cell_type": "markdown",
      "source": [
        "#Heston Model Data prediction using Fourier Neural Operator"
      ],
      "metadata": {
        "id": "WWX_ldfq9MUk"
      }
    },
    {
      "cell_type": "code",
      "execution_count": 36,
      "metadata": {
        "id": "KxH3YE6lzUBQ"
      },
      "outputs": [],
      "source": [
        "import numpy as np\n",
        "import torch\n",
        "import torch.nn as nn\n",
        "import torch.fft\n",
        "from sklearn.metrics import mean_squared_error, mean_absolute_error, r2_score\n",
        "import matplotlib.pyplot as plt\n",
        "from sklearn.model_selection import train_test_split"
      ]
    },
    {
      "cell_type": "code",
      "source": [
        "X_bs = np.load(\"bs_FNO_in.npy\")\n",
        "y_bs = np.load(\"bs_FNO_out.npy\")\n",
        "X_heston = np.load(\"heston_FNO_in.npy\")\n",
        "y_heston = np.load(\"heston_FNO_out.npy\")\n",
        "\n",
        "print(\"Input shape bs:\", X_bs.shape)\n",
        "print(\"Output shape bs:\", y_bs.shape)\n",
        "print(\"Input shape heston:\", X_heston.shape)\n",
        "print(\"Output shape heston:\", y_heston.shape)"
      ],
      "metadata": {
        "colab": {
          "base_uri": "https://localhost:8080/"
        },
        "id": "huiMG7zSz1SB",
        "outputId": "37305c52-46c3-42c8-daff-365d9b06610d"
      },
      "execution_count": 37,
      "outputs": [
        {
          "output_type": "stream",
          "name": "stdout",
          "text": [
            "Input shape bs: (100, 16, 16, 9)\n",
            "Output shape bs: (100, 16, 16, 1)\n",
            "Input shape heston: (100, 16, 16, 9)\n",
            "Output shape heston: (100, 16, 16, 1)\n"
          ]
        }
      ]
    },
    {
      "cell_type": "code",
      "source": [
        "class SpectralConv2d(nn.Module):\n",
        "    def __init__(self, in_channels, out_channels, modes1, modes2):\n",
        "        super().__init__()\n",
        "        self.in_channels = in_channels\n",
        "        self.out_channels = out_channels\n",
        "        self.modes1 = modes1\n",
        "        self.modes2 = modes2\n",
        "        self.scale = 1 / (in_channels * out_channels)\n",
        "        self.weights = nn.Parameter(\n",
        "            self.scale * torch.rand(in_channels, out_channels, modes1, modes2, dtype=torch.cfloat)\n",
        "        )\n",
        "\n",
        "    def forward(self, x):\n",
        "        B, C, H, W = x.shape\n",
        "        x_ft = torch.fft.rfft2(x)\n",
        "        out_ft = torch.zeros(B, self.out_channels, H, W // 2 + 1, dtype=torch.cfloat, device=x.device)\n",
        "        out_ft[:, :, :self.modes1, :self.modes2] = torch.einsum(\n",
        "            \"bixy,ioxy->boxy\", x_ft[:, :, :self.modes1, :self.modes2], self.weights\n",
        "        )\n",
        "        x = torch.fft.irfft2(out_ft, s=(H, W))\n",
        "        return x"
      ],
      "metadata": {
        "id": "a_RqYM6q0er9"
      },
      "execution_count": 38,
      "outputs": []
    },
    {
      "cell_type": "code",
      "source": [
        "class FNO2d(nn.Module):\n",
        "    def __init__(self, in_channels, out_channels, width=32, modes1=16, modes2=16):\n",
        "        super().__init__()\n",
        "        self.fc0 = nn.Linear(in_channels, width)\n",
        "        self.conv1 = SpectralConv2d(width, width, modes1, modes2)\n",
        "        self.conv2 = SpectralConv2d(width, width, modes1, modes2)\n",
        "        self.conv3 = SpectralConv2d(width, width, modes1, modes2)\n",
        "        self.w = nn.Conv2d(width, width, 1)\n",
        "        self.fc1 = nn.Linear(width, 128)\n",
        "        self.fc2 = nn.Linear(128, out_channels)\n",
        "\n",
        "    def forward(self, x):\n",
        "        B, H, W, C = x.shape\n",
        "        x = x.view(B * H * W, C)\n",
        "        x = self.fc0(x)\n",
        "        x = x.view(B, H, W, -1)\n",
        "        x = x.permute(0, 3, 1, 2)\n",
        "\n",
        "        x1 = self.conv1(x); x2 = self.w(x); x = torch.relu(x1 + x2)\n",
        "        x1 = self.conv2(x); x2 = self.w(x); x = torch.relu(x1 + x2)\n",
        "        x1 = self.conv3(x); x2 = self.w(x); x = x1 + x2\n",
        "\n",
        "        x = x.permute(0, 2, 3, 1)\n",
        "        x = torch.relu(self.fc1(x))\n",
        "        x = self.fc2(x)\n",
        "        return x.permute(0, 3, 1, 2)"
      ],
      "metadata": {
        "id": "llnO8b4O0oe0"
      },
      "execution_count": 39,
      "outputs": []
    },
    {
      "cell_type": "code",
      "source": [
        "X_bs_train, X_bs_test, y_bs_train, y_bs_test = train_test_split(X_bs, y_bs, test_size=0.2, random_state=42)\n",
        "\n",
        "X_bs_train = torch.tensor(X_bs_train, dtype=torch.float32)\n",
        "y_bs_train = torch.tensor(y_bs_train, dtype=torch.float32)\n",
        "X_bs_test = torch.tensor(X_bs_test, dtype=torch.float32)\n",
        "y_bs_test = torch.tensor(y_bs_test, dtype=torch.float32)\n",
        "\n",
        "X_heston_train, X_heston_test, y_heston_train, y_heston_test = train_test_split(X_heston, y_heston, test_size=0.2, random_state=42)\n",
        "\n",
        "X_heston_train = torch.tensor(X_heston_train, dtype=torch.float32)\n",
        "y_heston_train = torch.tensor(y_heston_train, dtype=torch.float32)\n",
        "X_heston_test = torch.tensor(X_heston_test, dtype=torch.float32)\n",
        "y_heston_test = torch.tensor(y_heston_test, dtype=torch.float32)"
      ],
      "metadata": {
        "id": "1voX5JE30wun"
      },
      "execution_count": 40,
      "outputs": []
    },
    {
      "cell_type": "code",
      "source": [
        "train_bs_dataset = torch.utils.data.TensorDataset(X_bs_train, y_bs_train)\n",
        "train_bs_loader = torch.utils.data.DataLoader(train_bs_dataset, batch_size=20, shuffle=True)\n",
        "train_heston_dataset = torch.utils.data.TensorDataset(X_heston_train, y_heston_train)\n",
        "train_heston_loader = torch.utils.data.DataLoader(train_heston_dataset, batch_size=20, shuffle=True)"
      ],
      "metadata": {
        "id": "qzm7RVBs1Sv9"
      },
      "execution_count": 45,
      "outputs": []
    },
    {
      "cell_type": "code",
      "source": [
        "device = torch.device(\"cuda\" if torch.cuda.is_available() else \"cpu\")\n",
        "print(device)"
      ],
      "metadata": {
        "colab": {
          "base_uri": "https://localhost:8080/"
        },
        "id": "Jdfw9jOd1s8k",
        "outputId": "a1ccac37-dcd9-46a8-c911-0d5075d1aa18"
      },
      "execution_count": 46,
      "outputs": [
        {
          "output_type": "stream",
          "name": "stdout",
          "text": [
            "cuda\n"
          ]
        }
      ]
    },
    {
      "cell_type": "code",
      "source": [
        "model = model = FNO2d(in_channels=9, out_channels=1, width=32, modes1=9, modes2=9).to(device)\n",
        "optimizer = torch.optim.Adam(model.parameters(), lr=1e-3)\n",
        "loss_fn = nn.MSELoss()"
      ],
      "metadata": {
        "id": "2O8Eqe_D1v1C"
      },
      "execution_count": 47,
      "outputs": []
    },
    {
      "cell_type": "code",
      "source": [
        "epochs = 30\n",
        "for epoch in range(epochs):\n",
        "    model.train()\n",
        "    total_loss = 0\n",
        "    for xb, yb in train_bs_loader:\n",
        "        xb, yb = xb.to(device), yb.to(device)\n",
        "        preds = model(xb)\n",
        "        loss = loss_fn(preds, yb.permute(0, 3, 1, 2))\n",
        "        optimizer.zero_grad()\n",
        "        loss.backward()\n",
        "        optimizer.step()\n",
        "        total_loss += loss.item()\n",
        "    print(f\"Epoch {epoch+1:02d} - Loss: {total_loss / len(train_bs_loader):.6f}\")"
      ],
      "metadata": {
        "colab": {
          "base_uri": "https://localhost:8080/"
        },
        "id": "EQc5Kc6Q1x9o",
        "outputId": "cbd0736d-dc56-4070-c7e8-4de8695060ae"
      },
      "execution_count": 48,
      "outputs": [
        {
          "output_type": "stream",
          "name": "stdout",
          "text": [
            "Epoch 01 - Loss: 213.822189\n",
            "Epoch 02 - Loss: 151.123531\n",
            "Epoch 03 - Loss: 81.387087\n",
            "Epoch 04 - Loss: 91.434359\n",
            "Epoch 05 - Loss: 71.782858\n",
            "Epoch 06 - Loss: 66.879507\n",
            "Epoch 07 - Loss: 65.393044\n",
            "Epoch 08 - Loss: 53.708522\n",
            "Epoch 09 - Loss: 48.027036\n",
            "Epoch 10 - Loss: 40.009917\n",
            "Epoch 11 - Loss: 35.207154\n",
            "Epoch 12 - Loss: 35.486580\n",
            "Epoch 13 - Loss: 36.073396\n",
            "Epoch 14 - Loss: 34.321397\n",
            "Epoch 15 - Loss: 33.450546\n",
            "Epoch 16 - Loss: 33.406565\n",
            "Epoch 17 - Loss: 32.653356\n",
            "Epoch 18 - Loss: 32.030014\n",
            "Epoch 19 - Loss: 30.817087\n",
            "Epoch 20 - Loss: 30.491845\n",
            "Epoch 21 - Loss: 29.121006\n",
            "Epoch 22 - Loss: 28.053990\n",
            "Epoch 23 - Loss: 26.885761\n",
            "Epoch 24 - Loss: 25.586563\n",
            "Epoch 25 - Loss: 24.067006\n",
            "Epoch 26 - Loss: 23.543513\n",
            "Epoch 27 - Loss: 23.438928\n",
            "Epoch 28 - Loss: 21.250722\n",
            "Epoch 29 - Loss: 22.028436\n",
            "Epoch 30 - Loss: 20.849792\n"
          ]
        }
      ]
    },
    {
      "cell_type": "code",
      "source": [
        "model.eval()\n",
        "with torch.no_grad():\n",
        "    X_bs_test = X_bs_test.to(device)\n",
        "    y_bs_test = y_bs_test.to(device)\n",
        "    preds = model(X_bs_test).cpu().numpy()\n",
        "    y_true = y_bs_test.cpu().numpy().transpose(0, 3, 1, 2)\n",
        "\n",
        "y_true_flat = y_true.flatten()\n",
        "preds_flat = preds.flatten()\n",
        "\n",
        "mse = mean_squared_error(y_true_flat, preds_flat)\n",
        "mae = mean_absolute_error(y_true_flat, preds_flat)\n",
        "rmse = np.sqrt(mse)\n",
        "r2 = r2_score(y_true_flat, preds_flat)\n",
        "\n",
        "print(f\"\\n Evaluation Metrics:\")\n",
        "print(f\"MSE  = {mse:.6f}\")\n",
        "print(f\"MAE  = {mae:.6f}\")\n",
        "print(f\"RMSE = {rmse:.6f}\")\n",
        "print(f\"R²   = {r2:.4f}\")"
      ],
      "metadata": {
        "colab": {
          "base_uri": "https://localhost:8080/"
        },
        "id": "mD-wZBO-18rM",
        "outputId": "7590793c-0ddd-46e5-c9e3-8600c2060ce7"
      },
      "execution_count": 49,
      "outputs": [
        {
          "output_type": "stream",
          "name": "stdout",
          "text": [
            "\n",
            " Evaluation Metrics:\n",
            "MSE  = 17.917337\n",
            "MAE  = 3.553893\n",
            "RMSE = 4.232888\n",
            "R²   = 0.6784\n"
          ]
        }
      ]
    },
    {
      "cell_type": "code",
      "source": [
        "plt.figure(figsize=(12, 5))\n",
        "\n",
        "plt.subplot(1, 2, 1)\n",
        "plt.imshow(y_true[0, 0], cmap='viridis')\n",
        "plt.title(\"Actual\")\n",
        "plt.colorbar()\n",
        "\n",
        "plt.subplot(1, 2, 2)\n",
        "plt.imshow(preds[0, 0], cmap='viridis')\n",
        "plt.title(\"Predicted\")\n",
        "plt.colorbar()\n",
        "\n",
        "plt.show()"
      ],
      "metadata": {
        "colab": {
          "base_uri": "https://localhost:8080/",
          "height": 378
        },
        "id": "II1gThTr4q5H",
        "outputId": "cf5844ab-ca26-4437-a75e-733caa4090a6"
      },
      "execution_count": 50,
      "outputs": [
        {
          "output_type": "display_data",
          "data": {
            "text/plain": [
              "<Figure size 1200x500 with 4 Axes>"
            ],
            "image/png": "[encoded data removed]"
          },
          "metadata": {}
        }
      ]
    },
    {
      "cell_type": "code",
      "source": [
        "epochs = 30\n",
        "for epoch in range(epochs):\n",
        "    model.train()\n",
        "    total_loss = 0\n",
        "    for xb, yb in train_heston_loader:\n",
        "        xb, yb = xb.to(device), yb.to(device)\n",
        "        preds = model(xb)\n",
        "        loss = loss_fn(preds, yb.permute(0, 3, 1, 2))\n",
        "        optimizer.zero_grad()\n",
        "        loss.backward()\n",
        "        optimizer.step()\n",
        "        total_loss += loss.item()\n",
        "    print(f\"Epoch {epoch+1:02d} - Loss: {total_loss / len(train_heston_loader):.6f}\")"
      ],
      "metadata": {
        "colab": {
          "base_uri": "https://localhost:8080/"
        },
        "id": "lYyWkWTi19g2",
        "outputId": "cfe8a4a4-f246-4117-f438-58b5107e22eb"
      },
      "execution_count": 51,
      "outputs": [
        {
          "output_type": "stream",
          "name": "stdout",
          "text": [
            "Epoch 01 - Loss: 25.264597\n",
            "Epoch 02 - Loss: 24.950336\n",
            "Epoch 03 - Loss: 20.088722\n",
            "Epoch 04 - Loss: 21.850652\n",
            "Epoch 05 - Loss: 20.347401\n",
            "Epoch 06 - Loss: 19.558511\n",
            "Epoch 07 - Loss: 19.102290\n",
            "Epoch 08 - Loss: 19.125668\n",
            "Epoch 09 - Loss: 18.772819\n",
            "Epoch 10 - Loss: 18.391436\n",
            "Epoch 11 - Loss: 18.844521\n",
            "Epoch 12 - Loss: 18.264989\n",
            "Epoch 13 - Loss: 18.253601\n",
            "Epoch 14 - Loss: 17.989915\n",
            "Epoch 15 - Loss: 18.055080\n",
            "Epoch 16 - Loss: 17.842922\n",
            "Epoch 17 - Loss: 17.641702\n",
            "Epoch 18 - Loss: 17.621294\n",
            "Epoch 19 - Loss: 17.333771\n",
            "Epoch 20 - Loss: 17.317686\n",
            "Epoch 21 - Loss: 17.996871\n",
            "Epoch 22 - Loss: 17.972196\n",
            "Epoch 23 - Loss: 16.777328\n",
            "Epoch 24 - Loss: 17.186589\n",
            "Epoch 25 - Loss: 16.548330\n",
            "Epoch 26 - Loss: 16.330875\n",
            "Epoch 27 - Loss: 16.511474\n",
            "Epoch 28 - Loss: 16.114856\n",
            "Epoch 29 - Loss: 15.992910\n",
            "Epoch 30 - Loss: 15.736557\n"
          ]
        }
      ]
    },
    {
      "cell_type": "code",
      "source": [
        "model.eval()\n",
        "with torch.no_grad():\n",
        "    X_heston_test = X_heston_test.to(device)\n",
        "    y_heston_test = y_heston_test.to(device)\n",
        "    preds = model(X_heston_test).cpu().numpy()\n",
        "    y_true = y_heston_test.cpu().numpy().transpose(0, 3, 1, 2)\n",
        "\n",
        "y_true_flat = y_true.flatten()\n",
        "preds_flat = preds.flatten()\n",
        "\n",
        "mse = mean_squared_error(y_true_flat, preds_flat)\n",
        "mae = mean_absolute_error(y_true_flat, preds_flat)\n",
        "rmse = np.sqrt(mse)\n",
        "r2 = r2_score(y_true_flat, preds_flat)\n",
        "\n",
        "print(f\"\\n Evaluation Metrics:\")\n",
        "print(f\"MSE  = {mse:.6f}\")\n",
        "print(f\"MAE  = {mae:.6f}\")\n",
        "print(f\"RMSE = {rmse:.6f}\")\n",
        "print(f\"R²   = {r2:.4f}\")"
      ],
      "metadata": {
        "colab": {
          "base_uri": "https://localhost:8080/"
        },
        "id": "qgUZQ-W42DPi",
        "outputId": "6ebe9991-c841-4142-ce8d-c671db644939"
      },
      "execution_count": 52,
      "outputs": [
        {
          "output_type": "stream",
          "name": "stdout",
          "text": [
            "\n",
            " Evaluation Metrics:\n",
            "MSE  = 15.058472\n",
            "MAE  = 3.005436\n",
            "RMSE = 3.880525\n",
            "R²   = 0.7213\n"
          ]
        }
      ]
    },
    {
      "cell_type": "code",
      "source": [
        "plt.figure(figsize=(12, 5))\n",
        "\n",
        "plt.subplot(1, 2, 1)\n",
        "plt.imshow(y_true[0, 0], cmap='viridis')\n",
        "plt.title(\"Actual\")\n",
        "plt.colorbar()\n",
        "\n",
        "plt.subplot(1, 2, 2)\n",
        "plt.imshow(preds[0, 0], cmap='viridis')\n",
        "plt.title(\"Predicted\")\n",
        "plt.colorbar()\n",
        "\n",
        "plt.show()"
      ],
      "metadata": {
        "colab": {
          "base_uri": "https://localhost:8080/",
          "height": 378
        },
        "id": "rh1ux_6L4W_e",
        "outputId": "08e7364c-0cb8-4210-fc47-50470413c731"
      },
      "execution_count": 53,
      "outputs": [
        {
          "output_type": "display_data",
          "data": {
            "text/plain": [
              "<Figure size 1200x500 with 4 Axes>"
            ],
            "image/png": "[encoded data removed]"
          },
          "metadata": {}
        }
      ]
    },
    {
      "cell_type": "code",
      "source": [],
      "metadata": {
        "id": "3YX6F0Rb4gI-"
      },
      "execution_count": null,
      "outputs": []
    }
  ]
}