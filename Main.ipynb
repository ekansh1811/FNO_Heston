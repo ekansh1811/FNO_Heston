{
  "nbformat": 4,
  "nbformat_minor": 0,
  "metadata": {
    "colab": {
      "provenance": [],
      "gpuType": "T4",
      "authorship_tag": "ABX9TyNA9faP9iVg37DwW73j50yY"
    },
    "kernelspec": {
      "name": "python3",
      "display_name": "Python 3"
    },
    "language_info": {
      "name": "python"
    },
    "accelerator": "GPU"
  },
  "cells": [
    {
      "cell_type": "code",
      "execution_count": 1,
      "metadata": {
        "id": "KxH3YE6lzUBQ"
      },
      "outputs": [],
      "source": [
        "import numpy as np\n",
        "import torch\n",
        "import torch.nn as nn\n",
        "import torch.fft\n",
        "from sklearn.metrics import mean_squared_error, mean_absolute_error, r2_score\n",
        "import matplotlib.pyplot as plt\n",
        "from sklearn.model_selection import train_test_split"
      ]
    },
    {
      "cell_type": "code",
      "source": [
        "X_bs = np.load(\"bs_FNO_in.npy\")\n",
        "y_bs = np.load(\"bs_FNO_out.npy\")\n",
        "X_heston = np.load(\"heston_FNO_in.npy\")\n",
        "y_heston = np.load(\"heston_FNO_out.npy\")\n",
        "\n",
        "print(\"Input shape bs:\", X_bs.shape)\n",
        "print(\"Output shape bs:\", y_bs.shape)\n",
        "print(\"Input shape heston:\", X_heston.shape)\n",
        "print(\"Output shape heston:\", y_heston.shape)"
      ],
      "metadata": {
        "colab": {
          "base_uri": "https://localhost:8080/"
        },
        "id": "huiMG7zSz1SB",
        "outputId": "54613668-4b6a-4a41-ecc7-bce1ad0de8ca"
      },
      "execution_count": 3,
      "outputs": [
        {
          "output_type": "stream",
          "name": "stdout",
          "text": [
            "Input shape bs: (100, 16, 16, 9)\n",
            "Output shape bs: (100, 16, 16, 1)\n",
            "Input shape heston: (100, 16, 16, 9)\n",
            "Output shape heston: (100, 16, 16, 1)\n"
          ]
        }
      ]
    },
    {
      "cell_type": "code",
      "source": [
        "class SpectralConv2d(nn.Module):\n",
        "    def __init__(self, in_channels, out_channels, modes1, modes2):\n",
        "        super().__init__()\n",
        "        self.in_channels = in_channels\n",
        "        self.out_channels = out_channels\n",
        "        self.modes1 = modes1\n",
        "        self.modes2 = modes2\n",
        "        self.scale = 1 / (in_channels * out_channels)\n",
        "        self.weights = nn.Parameter(\n",
        "            self.scale * torch.rand(in_channels, out_channels, modes1, modes2, dtype=torch.cfloat)\n",
        "        )\n",
        "\n",
        "    def forward(self, x):\n",
        "        B, C, H, W = x.shape\n",
        "        x_ft = torch.fft.rfft2(x)\n",
        "        out_ft = torch.zeros(B, self.out_channels, H, W // 2 + 1, dtype=torch.cfloat, device=x.device)\n",
        "        out_ft[:, :, :self.modes1, :self.modes2] = torch.einsum(\n",
        "            \"bixy,ioxy->boxy\", x_ft[:, :, :self.modes1, :self.modes2], self.weights\n",
        "        )\n",
        "        x = torch.fft.irfft2(out_ft, s=(H, W))\n",
        "        return x"
      ],
      "metadata": {
        "id": "a_RqYM6q0er9"
      },
      "execution_count": 4,
      "outputs": []
    },
    {
      "cell_type": "code",
      "source": [
        "class FNO2d(nn.Module):\n",
        "    def __init__(self, in_channels, out_channels, width=32, modes1=16, modes2=16):\n",
        "        super().__init__()\n",
        "        self.fc0 = nn.Linear(in_channels, width)\n",
        "        self.conv1 = SpectralConv2d(width, width, modes1, modes2)\n",
        "        self.conv2 = SpectralConv2d(width, width, modes1, modes2)\n",
        "        self.conv3 = SpectralConv2d(width, width, modes1, modes2)\n",
        "        self.w = nn.Conv2d(width, width, 1)\n",
        "        self.fc1 = nn.Linear(width, 128)\n",
        "        self.fc2 = nn.Linear(128, out_channels)\n",
        "\n",
        "    def forward(self, x):\n",
        "        B, H, W, C = x.shape\n",
        "        x = x.view(B * H * W, C)       # Flatten to (B*H*W, C)\n",
        "        x = self.fc0(x)                # Apply linear: (B*H*W, width)\n",
        "        x = x.view(B, H, W, -1)        # Reshape back to (B, H, W, width)\n",
        "        x = x.permute(0, 3, 1, 2)      # → (B, width, H, W)\n",
        "\n",
        "        x1 = self.conv1(x); x2 = self.w(x); x = torch.relu(x1 + x2)\n",
        "        x1 = self.conv2(x); x2 = self.w(x); x = torch.relu(x1 + x2)\n",
        "        x1 = self.conv3(x); x2 = self.w(x); x = x1 + x2\n",
        "\n",
        "        x = x.permute(0, 2, 3, 1)      # → (B, H, W, width)\n",
        "        x = torch.relu(self.fc1(x))\n",
        "        x = self.fc2(x)\n",
        "        return x.permute(0, 3, 1, 2)"
      ],
      "metadata": {
        "id": "llnO8b4O0oe0"
      },
      "execution_count": 13,
      "outputs": []
    },
    {
      "cell_type": "code",
      "source": [
        "X_bs_train, X_bs_test, y_bs_train, y_bs_test = train_test_split(X_bs, y_bs, test_size=0.2, random_state=42)\n",
        "\n",
        "X_bs_train = torch.tensor(X_bs_train, dtype=torch.float32)\n",
        "y_bs_train = torch.tensor(y_bs_train, dtype=torch.float32)\n",
        "X_bs_test = torch.tensor(X_bs_test, dtype=torch.float32)\n",
        "y_bs_test = torch.tensor(y_bs_test, dtype=torch.float32)\n",
        "\n",
        "X_heston_train, X_heston_test, y_heston_train, y_heston_test = train_test_split(X_heston, y_heston, test_size=0.2, random_state=42)\n",
        "\n",
        "X_heston_train = torch.tensor(X_heston_train, dtype=torch.float32)\n",
        "y_heston_train = torch.tensor(y_heston_train, dtype=torch.float32)\n",
        "X_heston_test = torch.tensor(X_heston_test, dtype=torch.float32)\n",
        "y_heston_test = torch.tensor(y_heston_test, dtype=torch.float32)"
      ],
      "metadata": {
        "id": "1voX5JE30wun"
      },
      "execution_count": 6,
      "outputs": []
    },
    {
      "cell_type": "code",
      "source": [
        "train_bs_dataset = torch.utils.data.TensorDataset(X_bs_train, y_bs_train)\n",
        "train_bs_loader = torch.utils.data.DataLoader(train_bs_dataset, batch_size=8, shuffle=True)\n",
        "train_heston_dataset = torch.utils.data.TensorDataset(X_heston_train, y_heston_train)\n",
        "train_heston_loader = torch.utils.data.DataLoader(train_heston_dataset, batch_size=8, shuffle=True)"
      ],
      "metadata": {
        "id": "qzm7RVBs1Sv9"
      },
      "execution_count": 7,
      "outputs": []
    },
    {
      "cell_type": "code",
      "source": [
        "device = torch.device(\"cuda\" if torch.cuda.is_available() else \"cpu\")\n",
        "print(device)"
      ],
      "metadata": {
        "colab": {
          "base_uri": "https://localhost:8080/"
        },
        "id": "Jdfw9jOd1s8k",
        "outputId": "57edce2f-503f-466f-96f9-d018562a805c"
      },
      "execution_count": 8,
      "outputs": [
        {
          "output_type": "stream",
          "name": "stdout",
          "text": [
            "cuda\n"
          ]
        }
      ]
    },
    {
      "cell_type": "code",
      "source": [
        "model = model = FNO2d(in_channels=9, out_channels=1, width=32, modes1=9, modes2=9).to(device)\n",
        "optimizer = torch.optim.Adam(model.parameters(), lr=1e-3)\n",
        "loss_fn = nn.MSELoss()"
      ],
      "metadata": {
        "id": "2O8Eqe_D1v1C"
      },
      "execution_count": 26,
      "outputs": []
    },
    {
      "cell_type": "code",
      "source": [
        "epochs = 30\n",
        "for epoch in range(epochs):\n",
        "    model.train()\n",
        "    total_loss = 0\n",
        "    for xb, yb in train_bs_loader:\n",
        "        xb, yb = xb.to(device), yb.to(device)\n",
        "        preds = model(xb)\n",
        "        loss = loss_fn(preds, yb.permute(0, 3, 1, 2))\n",
        "        optimizer.zero_grad()\n",
        "        loss.backward()\n",
        "        optimizer.step()\n",
        "        total_loss += loss.item()\n",
        "    print(f\"Epoch {epoch+1:02d} - Loss: {total_loss / len(train_bs_loader):.6f}\")"
      ],
      "metadata": {
        "colab": {
          "base_uri": "https://localhost:8080/"
        },
        "id": "EQc5Kc6Q1x9o",
        "outputId": "4fb207e8-f4d0-42eb-f1eb-ecfbd5db7be3"
      },
      "execution_count": 27,
      "outputs": [
        {
          "output_type": "stream",
          "name": "stdout",
          "text": [
            "Epoch 01 - Loss: 210.078368\n",
            "Epoch 02 - Loss: 97.580333\n",
            "Epoch 03 - Loss: 71.163840\n",
            "Epoch 04 - Loss: 51.230637\n",
            "Epoch 05 - Loss: 37.104210\n",
            "Epoch 06 - Loss: 34.630700\n",
            "Epoch 07 - Loss: 32.493682\n",
            "Epoch 08 - Loss: 31.038496\n",
            "Epoch 09 - Loss: 28.969620\n",
            "Epoch 10 - Loss: 26.336102\n",
            "Epoch 11 - Loss: 23.326015\n",
            "Epoch 12 - Loss: 22.297350\n",
            "Epoch 13 - Loss: 22.143155\n",
            "Epoch 14 - Loss: 24.449585\n",
            "Epoch 15 - Loss: 21.582746\n",
            "Epoch 16 - Loss: 21.212488\n",
            "Epoch 17 - Loss: 21.103024\n",
            "Epoch 18 - Loss: 20.702155\n",
            "Epoch 19 - Loss: 20.337125\n",
            "Epoch 20 - Loss: 20.259693\n",
            "Epoch 21 - Loss: 19.374352\n",
            "Epoch 22 - Loss: 19.207351\n",
            "Epoch 23 - Loss: 20.184824\n",
            "Epoch 24 - Loss: 19.401497\n",
            "Epoch 25 - Loss: 18.966482\n",
            "Epoch 26 - Loss: 22.758483\n",
            "Epoch 27 - Loss: 18.995253\n",
            "Epoch 28 - Loss: 17.210991\n",
            "Epoch 29 - Loss: 15.829872\n",
            "Epoch 30 - Loss: 16.071934\n"
          ]
        }
      ]
    },
    {
      "cell_type": "code",
      "source": [
        "model.eval()\n",
        "with torch.no_grad():\n",
        "    X_bs_test = X_bs_test.to(device)\n",
        "    y_bs_test = y_bs_test.to(device)\n",
        "    preds = model(X_bs_test).cpu().numpy()\n",
        "    y_true = y_bs_test.cpu().numpy().transpose(0, 3, 1, 2)\n",
        "\n",
        "# ➗ Flatten for error metrics\n",
        "y_true_flat = y_true.flatten()\n",
        "preds_flat = preds.flatten()\n",
        "\n",
        "mse = mean_squared_error(y_true_flat, preds_flat)\n",
        "mae = mean_absolute_error(y_true_flat, preds_flat)\n",
        "rmse = np.sqrt(mse)\n",
        "r2 = r2_score(y_true_flat, preds_flat)\n",
        "\n",
        "print(f\"\\n🔍 Evaluation Metrics:\")\n",
        "print(f\"MSE  = {mse:.6f}\")\n",
        "print(f\"MAE  = {mae:.6f}\")\n",
        "print(f\"RMSE = {rmse:.6f}\")\n",
        "print(f\"R²   = {r2:.4f}\")"
      ],
      "metadata": {
        "colab": {
          "base_uri": "https://localhost:8080/"
        },
        "id": "mD-wZBO-18rM",
        "outputId": "37e30f29-173a-4d21-8b44-d56ce57d43ed"
      },
      "execution_count": 34,
      "outputs": [
        {
          "output_type": "stream",
          "name": "stdout",
          "text": [
            "\n",
            "🔍 Evaluation Metrics:\n",
            "MSE  = 9.905397\n",
            "MAE  = 2.404408\n",
            "RMSE = 3.147284\n",
            "R²   = 0.8222\n"
          ]
        }
      ]
    },
    {
      "cell_type": "code",
      "source": [
        "plt.figure(figsize=(12, 5))\n",
        "\n",
        "plt.subplot(1, 2, 1)\n",
        "plt.imshow(y_true[0, 0], cmap='viridis')\n",
        "plt.title(\"Actual\")\n",
        "plt.colorbar()\n",
        "\n",
        "plt.subplot(1, 2, 2)\n",
        "plt.imshow(preds[0, 0], cmap='viridis')\n",
        "plt.title(\"Predicted\")\n",
        "plt.colorbar()\n",
        "\n",
        "plt.show()"
      ],
      "metadata": {
        "colab": {
          "base_uri": "https://localhost:8080/",
          "height": 373
        },
        "id": "II1gThTr4q5H",
        "outputId": "4765a59b-91a7-4e61-904e-4f565ed25dc3"
      },
      "execution_count": 35,
      "outputs": [
        {
          "output_type": "display_data",
          "data": {
            "text/plain": [
              "<Figure size 1200x500 with 4 Axes>"
            ],
            "image/png": "[encoded data removed]"
          },
          "metadata": {}
        }
      ]
    },
    {
      "cell_type": "code",
      "source": [
        "epochs = 30\n",
        "for epoch in range(epochs):\n",
        "    model.train()\n",
        "    total_loss = 0\n",
        "    for xb, yb in train_heston_loader:\n",
        "        xb, yb = xb.to(device), yb.to(device)\n",
        "        preds = model(xb)\n",
        "        loss = loss_fn(preds, yb.permute(0, 3, 1, 2))\n",
        "        optimizer.zero_grad()\n",
        "        loss.backward()\n",
        "        optimizer.step()\n",
        "        total_loss += loss.item()\n",
        "    print(f\"Epoch {epoch+1:02d} - Loss: {total_loss / len(train_heston_loader):.6f}\")"
      ],
      "metadata": {
        "colab": {
          "base_uri": "https://localhost:8080/"
        },
        "id": "lYyWkWTi19g2",
        "outputId": "20d748c4-1c9f-401a-ce24-50e2cc96102f"
      },
      "execution_count": 30,
      "outputs": [
        {
          "output_type": "stream",
          "name": "stdout",
          "text": [
            "Epoch 01 - Loss: 17.750476\n",
            "Epoch 02 - Loss: 19.001635\n",
            "Epoch 03 - Loss: 16.489821\n",
            "Epoch 04 - Loss: 14.451415\n",
            "Epoch 05 - Loss: 13.655439\n",
            "Epoch 06 - Loss: 13.884387\n",
            "Epoch 07 - Loss: 14.389200\n",
            "Epoch 08 - Loss: 14.691906\n",
            "Epoch 09 - Loss: 13.183813\n",
            "Epoch 10 - Loss: 13.344937\n",
            "Epoch 11 - Loss: 13.770266\n",
            "Epoch 12 - Loss: 12.537370\n",
            "Epoch 13 - Loss: 12.825754\n",
            "Epoch 14 - Loss: 12.429404\n",
            "Epoch 15 - Loss: 12.132982\n",
            "Epoch 16 - Loss: 12.717106\n",
            "Epoch 17 - Loss: 12.529642\n",
            "Epoch 18 - Loss: 12.872540\n",
            "Epoch 19 - Loss: 13.053859\n",
            "Epoch 20 - Loss: 11.884035\n",
            "Epoch 21 - Loss: 13.414480\n",
            "Epoch 22 - Loss: 11.955040\n",
            "Epoch 23 - Loss: 11.696798\n",
            "Epoch 24 - Loss: 12.235736\n",
            "Epoch 25 - Loss: 11.391544\n",
            "Epoch 26 - Loss: 13.366285\n",
            "Epoch 27 - Loss: 11.544720\n",
            "Epoch 28 - Loss: 12.307916\n",
            "Epoch 29 - Loss: 11.527277\n",
            "Epoch 30 - Loss: 11.824298\n"
          ]
        }
      ]
    },
    {
      "cell_type": "code",
      "source": [
        "model.eval()\n",
        "with torch.no_grad():\n",
        "    X_heston_test = X_heston_test.to(device)\n",
        "    y_heston_test = y_heston_test.to(device)\n",
        "    preds = model(X_heston_test).cpu().numpy()\n",
        "    y_true = y_heston_test.cpu().numpy().transpose(0, 3, 1, 2)\n",
        "\n",
        "# ➗ Flatten for error metrics\n",
        "y_true_flat = y_true.flatten()\n",
        "preds_flat = preds.flatten()\n",
        "\n",
        "mse = mean_squared_error(y_true_flat, preds_flat)\n",
        "mae = mean_absolute_error(y_true_flat, preds_flat)\n",
        "rmse = np.sqrt(mse)\n",
        "r2 = r2_score(y_true_flat, preds_flat)\n",
        "\n",
        "print(f\"\\n🔍 Evaluation Metrics:\")\n",
        "print(f\"MSE  = {mse:.6f}\")\n",
        "print(f\"MAE  = {mae:.6f}\")\n",
        "print(f\"RMSE = {rmse:.6f}\")\n",
        "print(f\"R²   = {r2:.4f}\")"
      ],
      "metadata": {
        "colab": {
          "base_uri": "https://localhost:8080/"
        },
        "id": "qgUZQ-W42DPi",
        "outputId": "05d77aa2-6057-41f9-ffc2-a922889e8279"
      },
      "execution_count": 31,
      "outputs": [
        {
          "output_type": "stream",
          "name": "stdout",
          "text": [
            "\n",
            "🔍 Evaluation Metrics:\n",
            "MSE  = 11.233605\n",
            "MAE  = 2.613338\n",
            "RMSE = 3.351657\n",
            "R²   = 0.7921\n"
          ]
        }
      ]
    },
    {
      "cell_type": "code",
      "source": [
        "plt.figure(figsize=(12, 5))\n",
        "\n",
        "plt.subplot(1, 2, 1)\n",
        "plt.imshow(y_true[0, 0], cmap='viridis')\n",
        "plt.title(\"Actual\")\n",
        "plt.colorbar()\n",
        "\n",
        "plt.subplot(1, 2, 2)\n",
        "plt.imshow(preds[0, 0], cmap='viridis')\n",
        "plt.title(\"Predicted\")\n",
        "plt.colorbar()\n",
        "\n",
        "plt.show()"
      ],
      "metadata": {
        "colab": {
          "base_uri": "https://localhost:8080/",
          "height": 378
        },
        "id": "rh1ux_6L4W_e",
        "outputId": "afe29c02-a4c2-4e5e-aa74-f55418e1da99"
      },
      "execution_count": 32,
      "outputs": [
        {
          "output_type": "display_data",
          "data": {
            "text/plain": [
              "<Figure size 1200x500 with 4 Axes>"
            ],
            "image/png": "[encoded data removed]"
          },
          "metadata": {}
        }
      ]
    },
    {
      "cell_type": "code",
      "source": [],
      "metadata": {
        "id": "3YX6F0Rb4gI-"
      },
      "execution_count": null,
      "outputs": []
    }
  ]
}